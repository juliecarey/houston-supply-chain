{
 "cells": [
  {
   "cell_type": "code",
   "execution_count": 1,
   "id": "d425ef49",
   "metadata": {},
   "outputs": [],
   "source": [
    "import numpy as np\n",
    "import pandas as pd"
   ]
  },
  {
   "cell_type": "code",
   "execution_count": 23,
   "id": "ab2b0c4b",
   "metadata": {},
   "outputs": [],
   "source": [
    "class Distribution_Center(object):\n",
    "    def __init__(self, *initial_data, **kwargs):\n",
    "        for dictionary in initial_data:\n",
    "            for key in dictionary:\n",
    "                setattr(self, key, dictionary[key])\n",
    "        for key in kwargs:\n",
    "            setattr(self, key, kwargs[key])\n",
    "        "
   ]
  },
  {
   "cell_type": "code",
   "execution_count": 25,
   "id": "6d2f5b72",
   "metadata": {},
   "outputs": [],
   "source": [
    "a = Distribution_Center()"
   ]
  },
  {
   "cell_type": "code",
   "execution_count": 32,
   "id": "8f6e7523",
   "metadata": {},
   "outputs": [],
   "source": [
    "dc_template = {\"name\": \"default\", \"data\":{'food':{'value': 0, 'limit':10000, 'rate':20}, 'water':{'value': 0, 'limit':10000, 'rate':20}, 'medical':{'value': 0, 'limit':10000, 'rate':20}}}\n",
    "e = Distribution_Center(dc_template)"
   ]
  },
  {
   "cell_type": "code",
   "execution_count": 38,
   "id": "6610a3d4",
   "metadata": {},
   "outputs": [
    {
     "data": {
      "text/plain": [
       "10000"
      ]
     },
     "execution_count": 38,
     "metadata": {},
     "output_type": "execute_result"
    }
   ],
   "source": [
    "e.data['food']['limit']"
   ]
  },
  {
   "cell_type": "code",
   "execution_count": 39,
   "id": "9e86daef",
   "metadata": {},
   "outputs": [],
   "source": [
    "def step(e: Distribution_Center):\n",
    "    print(e.name)"
   ]
  },
  {
   "cell_type": "code",
   "execution_count": 40,
   "id": "a44d0ad2",
   "metadata": {},
   "outputs": [
    {
     "name": "stdout",
     "output_type": "stream",
     "text": [
      "default\n"
     ]
    }
   ],
   "source": [
    "step(e)"
   ]
  },
  {
   "cell_type": "code",
   "execution_count": 44,
   "id": "697a7496",
   "metadata": {},
   "outputs": [],
   "source": [
    "b = Distribution_Center(dc_template, data={'test':1})"
   ]
  },
  {
   "cell_type": "code",
   "execution_count": 47,
   "id": "52829f0b",
   "metadata": {},
   "outputs": [
    {
     "data": {
      "text/plain": [
       "{'test': 1}"
      ]
     },
     "execution_count": 47,
     "metadata": {},
     "output_type": "execute_result"
    }
   ],
   "source": [
    "b.data"
   ]
  },
  {
   "cell_type": "code",
   "execution_count": null,
   "id": "e3986e3d",
   "metadata": {},
   "outputs": [],
   "source": []
  }
 ],
 "metadata": {
  "kernelspec": {
   "display_name": "Python 3 (ipykernel)",
   "language": "python",
   "name": "python3"
  },
  "language_info": {
   "codemirror_mode": {
    "name": "ipython",
    "version": 3
   },
   "file_extension": ".py",
   "mimetype": "text/x-python",
   "name": "python",
   "nbconvert_exporter": "python",
   "pygments_lexer": "ipython3",
   "version": "3.8.6"
  }
 },
 "nbformat": 4,
 "nbformat_minor": 5
}
