{
 "cells": [
  {
   "cell_type": "code",
   "execution_count": 45,
   "id": "80eeeec4",
   "metadata": {},
   "outputs": [],
   "source": [
    "import numpy as np\n",
    "import pandas as pd\n",
    "from scipy.stats import truncnorm\n",
    "import matplotlib.pyplot as plt\n",
    "import random\n",
    "import tqdm"
   ]
  },
  {
   "cell_type": "code",
   "execution_count": 139,
   "id": "9664f32d",
   "metadata": {},
   "outputs": [],
   "source": [
    "dc_template = {'food':{'value': 0, 'limit':10000, 'g_rate':20}, 'water':{'value': 0, 'limit':10000, 'g_rate':20}, 'medical':{'value': 0, 'limit':10000, 'g_rate':20}}\n",
    "s_template = {'food':{'value': 0, 'limit':1000, 'reorder':20}, 'water':{'value': 0, 'limit':1000, 'reorder':20}, 'medical':{'value': 0, 'limit':1000, 'reorder':20}}\n",
    "p_template = {'food':0, 'water':0, 'medical':0}\n",
    "lp_template = {'food':{'lower': 2, 'upper':10}, 'water':{'lower': 2, 'upper':10}, 'medical':{'lower': 2, 'upper':10}}\n",
    "\n",
    "class Distribution_Center(object):\n",
    "    def __init__(self, data=dc_template.copy(), name='default'):\n",
    "        self.name = name\n",
    "        self.data = data\n",
    "        self.stores = []\n",
    "        \n",
    "class Store(object):\n",
    "    def __init__(self, data=s_template.copy()):\n",
    "        self.data = data\n",
    "        \n",
    "class Customer(object):\n",
    "    def __init__(self, limits=lp_template.copy(), data=None):\n",
    "        self.limits = limits\n",
    "        if data is None:\n",
    "            self.data = {}\n",
    "            for key, value in limits.items():\n",
    "                self.data[key] = random.choices(np.arange(value['lower'], value['upper']))[0]\n",
    "        else:\n",
    "            self.data = data\n",
    "            \n"
   ]
  },
  {
   "cell_type": "code",
   "execution_count": 80,
   "id": "b57d0c6b",
   "metadata": {},
   "outputs": [],
   "source": [
    "def Experiment(config = None, t=100):\n",
    "    \n",
    "    initialize(config)\n",
    "    dcs = []"
   ]
  },
  {
   "cell_type": "code",
   "execution_count": 86,
   "id": "a1bb9fb1",
   "metadata": {},
   "outputs": [],
   "source": [
    "def initialize(config):\n",
    "    ans = []\n",
    "    for key, values in config.items():\n",
    "        ans.append(Distribution_Center(name=key, data=values['dc_template']))\n",
    "    return(ans)"
   ]
  },
  {
   "cell_type": "code",
   "execution_count": 102,
   "id": "0236a3bb",
   "metadata": {},
   "outputs": [],
   "source": [
    "def update_values(dc):\n",
    "    for key, values in dc.data.items():\n",
    "        print(key)\n",
    "        print(values)\n",
    "        values['value'] = values['value'] + values['g_rate']"
   ]
  },
  {
   "cell_type": "code",
   "execution_count": 140,
   "id": "26b2242b",
   "metadata": {},
   "outputs": [],
   "source": [
    "a = Distribution_Center()"
   ]
  },
  {
   "cell_type": "code",
   "execution_count": 141,
   "id": "6139fa69",
   "metadata": {},
   "outputs": [
    {
     "data": {
      "text/plain": [
       "{'food': {'value': 0, 'limit': 10000, 'g_rate': 20},\n",
       " 'water': {'value': 0, 'limit': 10000, 'g_rate': 20},\n",
       " 'medical': {'value': 0, 'limit': 10000, 'g_rate': 20}}"
      ]
     },
     "execution_count": 141,
     "metadata": {},
     "output_type": "execute_result"
    }
   ],
   "source": [
    "update_values"
   ]
  },
  {
   "cell_type": "code",
   "execution_count": 131,
   "id": "e297cbbd",
   "metadata": {},
   "outputs": [
    {
     "name": "stdout",
     "output_type": "stream",
     "text": [
      "food\n",
      "{'value': 540, 'limit': 10000, 'g_rate': 20}\n",
      "water\n",
      "{'value': 540, 'limit': 10000, 'g_rate': 20}\n",
      "medical\n",
      "{'value': 540, 'limit': 10000, 'g_rate': 20}\n"
     ]
    }
   ],
   "source": [
    "update_values(Distribution_Center())"
   ]
  },
  {
   "cell_type": "code",
   "execution_count": 105,
   "id": "c39828ad",
   "metadata": {},
   "outputs": [],
   "source": [
    "class Experiment(object):\n",
    "    def __init__(self, config):\n",
    "        self.config = config\n",
    "        self.dcs = []\n",
    "    \n",
    "            \n",
    "    def run(self, n = 100):\n",
    "        for t in tqdm.tqdm(range(n)):\n",
    "              self.results[t] = 'test'\n",
    "        \n",
    "    \n",
    "def daily_customers(n=10):\n",
    "    results = []\n",
    "    for val in range(n):\n",
    "        results.append(Customer())\n",
    "    return(results)\n",
    "        "
   ]
  },
  {
   "cell_type": "code",
   "execution_count": 106,
   "id": "1c3100f8",
   "metadata": {},
   "outputs": [
    {
     "name": "stdout",
     "output_type": "stream",
     "text": [
      "{'food': 5, 'water': 8, 'medical': 8}\n",
      "{'food': 4, 'water': 8, 'medical': 6}\n",
      "{'food': 3, 'water': 3, 'medical': 5}\n",
      "{'food': 6, 'water': 3, 'medical': 2}\n",
      "{'food': 7, 'water': 2, 'medical': 5}\n",
      "{'food': 4, 'water': 9, 'medical': 6}\n",
      "{'food': 7, 'water': 9, 'medical': 3}\n",
      "{'food': 7, 'water': 6, 'medical': 3}\n",
      "{'food': 2, 'water': 8, 'medical': 8}\n",
      "{'food': 2, 'water': 7, 'medical': 7}\n"
     ]
    }
   ],
   "source": [
    "z = daily_customers()\n",
    "for val in z:\n",
    "    print(val. data)"
   ]
  },
  {
   "cell_type": "code",
   "execution_count": 81,
   "id": "11d4836a",
   "metadata": {},
   "outputs": [
    {
     "name": "stdout",
     "output_type": "stream",
     "text": [
      "aldi\n",
      "{'num_stores': 5, 's_template': {'food': {'value': 0, 'limit': 400, 'reorder': 200}, 'water': {'value': 0, 'limit': 400, 'reorder': 200}, 'medical': {'value': 0, 'limit': 400, 'reorder': 200}}, 'dc_template': {'food': {'value': 0, 'limit': 5000, 'g_rate': 20}, 'water': {'value': 0, 'limit': 5000, 'g_rate': 20}, 'medical': {'value': 0, 'limit': 5000, 'g_rate': 20}}}\n",
      "walmart\n",
      "{'num_stores': 10, 's_template': {'food': {'value': 0, 'limit': 1000, 'reorder': 20}, 'water': {'value': 0, 'limit': 1000, 'reorder': 20}, 'medical': {'value': 0, 'limit': 1000, 'reorder': 20}}, 'dc_template': {'food': {'value': 0, 'limit': 10000, 'g_rate': 20}, 'water': {'value': 0, 'limit': 10000, 'g_rate': 20}, 'medical': {'value': 0, 'limit': 10000, 'g_rate': 20}}}\n",
      "target\n",
      "{'num_stores': 20, 's_template': {'food': {'value': 0, 'limit': 1000, 'reorder': 20}, 'water': {'value': 0, 'limit': 1000, 'reorder': 20}, 'medical': {'value': 0, 'limit': 1000, 'reorder': 20}}, 'dc_template': {'food': {'value': 0, 'limit': 10000, 'g_rate': 20}, 'water': {'value': 0, 'limit': 10000, 'g_rate': 20}, 'medical': {'value': 0, 'limit': 10000, 'g_rate': 20}}}\n"
     ]
    }
   ],
   "source": [
    "Experiment(conf)"
   ]
  },
  {
   "cell_type": "code",
   "execution_count": 49,
   "id": "a499e222",
   "metadata": {},
   "outputs": [
    {
     "name": "stderr",
     "output_type": "stream",
     "text": [
      "100%|██████████████████████████████████| 100/100 [00:00<00:00, 739736.16it/s]\n"
     ]
    }
   ],
   "source": [
    "a.run()"
   ]
  },
  {
   "cell_type": "code",
   "execution_count": 50,
   "id": "cb8991d0",
   "metadata": {},
   "outputs": [],
   "source": [
    "aldi_dc_template = {\n",
    "    'food': {\n",
    "        'value': 0, 'limit':5000, 'g_rate':20\n",
    "    }, \n",
    "    'water':{\n",
    "        'value': 0, 'limit':5000, 'g_rate':20\n",
    "    }, \n",
    "    'medical':{\n",
    "        'value': 0, 'limit':5000, 'g_rate':20\n",
    "    }\n",
    "}\n",
    "\n",
    "\n",
    "aldi_s_template = {\n",
    "    'food':{\n",
    "        'value': 0, 'limit':400, 'reorder':200\n",
    "    }, \n",
    "    'water':{\n",
    "        'value': 0, 'limit':400, 'reorder':200\n",
    "    }, \n",
    "    'medical':{\n",
    "        'value': 0, 'limit':400, 'reorder':200\n",
    "    }\n",
    "}"
   ]
  },
  {
   "cell_type": "code",
   "execution_count": 44,
   "id": "4beeb778",
   "metadata": {},
   "outputs": [],
   "source": [
    "conf = {\n",
    "    'aldi': {\n",
    "        'num_stores': 5, \n",
    "        's_template': aldi_s_template,\n",
    "        'dc_template': aldi_dc_template\n",
    "    },\n",
    "    'walmart': {\n",
    "        'num_stores': 10, \n",
    "        's_template': s_template,\n",
    "        'dc_template': dc_template\n",
    "    },\n",
    "    'target': {\n",
    "        'num_stores': 20, \n",
    "        's_template': s_template,\n",
    "        'dc_template': dc_template\n",
    "    },\n",
    "}"
   ]
  },
  {
   "cell_type": "code",
   "execution_count": null,
   "id": "ea16a613",
   "metadata": {},
   "outputs": [],
   "source": []
  }
 ],
 "metadata": {
  "kernelspec": {
   "display_name": "Python 3 (ipykernel)",
   "language": "python",
   "name": "python3"
  },
  "language_info": {
   "codemirror_mode": {
    "name": "ipython",
    "version": 3
   },
   "file_extension": ".py",
   "mimetype": "text/x-python",
   "name": "python",
   "nbconvert_exporter": "python",
   "pygments_lexer": "ipython3",
   "version": "3.8.6"
  }
 },
 "nbformat": 4,
 "nbformat_minor": 5
}
